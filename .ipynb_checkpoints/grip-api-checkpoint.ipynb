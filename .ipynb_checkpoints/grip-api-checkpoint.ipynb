{
 "cells": [
  {
   "cell_type": "code",
   "execution_count": 41,
   "id": "4cb363e0",
   "metadata": {},
   "outputs": [
    {
     "name": "stdout",
     "output_type": "stream",
     "text": [
      "2\n",
      "Event #0 are ['51612'], victims are ['52612'], prefixes are ['170.79.251.0/24', '177.124.22.0/24', '177.124.21.0/24', '177.124.20.0/24'], started at 2025-03-06 08:30:00 UTC and finished at 2025-03-06 10:00:00 UTC. \n",
      "\n",
      "Event #1 are ['51612'], victims are ['52612'], prefixes are ['177.124.22.0/24', '170.79.251.0/24', '177.124.23.0/24', '170.79.249.0/24', '177.124.20.0/24'], started at 2025-03-03 21:50:00 UTC and finished at 2025-03-03 23:20:00 UTC. \n",
      "\n",
      "Done\n"
     ]
    }
   ],
   "source": [
    "# Sample code to call GRIP API for checking MOAS events on a particular date and particular ASNs\n",
    "import requests\n",
    "import json\n",
    "from datetime import datetime\n",
    "import urllib.parse\n",
    "\n",
    "asn = \"52612\" # ASN whose routing history we want to check.\n",
    "\n",
    "\n",
    "start_time = urllib.parse.quote(\"2025-02-01T00:00\")\n",
    "end_time = urllib.parse.quote(\"2025-03-06T23:59\")\n",
    "\n",
    "\n",
    "api_url = \"https://api.grip.inetintel.cc.gatech.edu/json/events?length=100&start=0&ts_start=\"+start_time+\"&ts_end=\"+end_time+\"&min_susp=80&max_susp=100&event_type=moas&asns=\"+asn\n",
    "\n",
    "response = requests.get(api_url)\n",
    "# response = requests.get(api_url, headers=headers, params=params)\n",
    "# Check if the request was successful\n",
    "if response.status_code == 200:\n",
    "    # Convert response JSON to a string\n",
    "    json_string = response.json()\n",
    "    \n",
    "    events = json_string['data']\n",
    "    for i, k in enumerate(events):\n",
    "        attacker = json_string['data'][i]['summary']['attackers']\n",
    "        victims = json_string['data'][i]['summary']['victims']\n",
    "        prefixes = json_string['data'][i]['summary']['prefixes']\n",
    "        event_time_unix = int(json_string['data'][i]['view_ts']) \n",
    "        event_time = datetime.utcfromtimestamp(event_time_unix).strftime('%Y-%m-%d %H:%M:%S')\n",
    "        if json_string['data'][i]['finished_ts'] is None:\n",
    "            finished_time = \"Ongoing\"\n",
    "        else:\n",
    "            finished_time_unix = int(json_string['data'][i]['finished_ts'])\n",
    "            finished_time = datetime.utcfromtimestamp(finished_time_unix).strftime('%Y-%m-%d %H:%M:%S')\n",
    "\n",
    "        print(f\"Event #{i} are {attacker}, victims are {victims}, prefixes are {prefixes}, started at {event_time} UTC and finished at {finished_time} UTC. \\n\")\n",
    "\n",
    "    print(\"Done\")\n",
    "else:\n",
    "    print(f\"Error: Received status code {response.status_code}\")  \n"
   ]
  }
 ],
 "metadata": {
  "kernelspec": {
   "display_name": "Python 3 (ipykernel)",
   "language": "python",
   "name": "python3"
  },
  "language_info": {
   "codemirror_mode": {
    "name": "ipython",
    "version": 3
   },
   "file_extension": ".py",
   "mimetype": "text/x-python",
   "name": "python",
   "nbconvert_exporter": "python",
   "pygments_lexer": "ipython3",
   "version": "3.10.12"
  }
 },
 "nbformat": 4,
 "nbformat_minor": 5
}
